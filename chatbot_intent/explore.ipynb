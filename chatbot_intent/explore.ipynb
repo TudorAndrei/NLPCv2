{
 "cells": [
  {
   "cell_type": "code",
   "execution_count": 1,
   "metadata": {},
   "outputs": [],
   "source": [
    "import pandas as pd\n",
    "import json"
   ]
  },
  {
   "cell_type": "code",
   "execution_count": 2,
   "metadata": {},
   "outputs": [],
   "source": [
    "path = \"../chatbot_intent/intent-corpus-basic.json\"\n",
    "path_limit = '../chatbot_intent/intent-corpus-enrich-limit-20.json'"
   ]
  },
  {
   "cell_type": "code",
   "execution_count": 3,
   "metadata": {},
   "outputs": [],
   "source": [
    "with open(path) as file:\n",
    "\n",
    "  data = json.load(file)\n",
    "  "
   ]
  },
  {
   "cell_type": "code",
   "execution_count": 4,
   "metadata": {},
   "outputs": [],
   "source": [
    "with open(path_limit) as file:\n",
    "\n",
    "  data2 = json.load(file)\n"
   ]
  },
  {
   "cell_type": "code",
   "execution_count": 5,
   "metadata": {},
   "outputs": [],
   "source": [
    "data = pd.DataFrame.from_records(data['sentences'])\n",
    "data2 = pd.DataFrame.from_records(data2['sentences'])"
   ]
  },
  {
   "cell_type": "code",
   "execution_count": 17,
   "metadata": {},
   "outputs": [
    {
     "data": {
      "text/html": [
       "<div>\n",
       "<style scoped>\n",
       "    .dataframe tbody tr th:only-of-type {\n",
       "        vertical-align: middle;\n",
       "    }\n",
       "\n",
       "    .dataframe tbody tr th {\n",
       "        vertical-align: top;\n",
       "    }\n",
       "\n",
       "    .dataframe thead th {\n",
       "        text-align: right;\n",
       "    }\n",
       "</style>\n",
       "<table border=\"1\" class=\"dataframe\">\n",
       "  <thead>\n",
       "    <tr style=\"text-align: right;\">\n",
       "      <th></th>\n",
       "      <th>text</th>\n",
       "      <th>intent</th>\n",
       "      <th>entities</th>\n",
       "      <th>training</th>\n",
       "    </tr>\n",
       "  </thead>\n",
       "  <tbody>\n",
       "    <tr>\n",
       "      <th>0</th>\n",
       "      <td>yes</td>\n",
       "      <td>yesNode</td>\n",
       "      <td>[]</td>\n",
       "      <td>True</td>\n",
       "    </tr>\n",
       "    <tr>\n",
       "      <th>1</th>\n",
       "      <td>oh yeah</td>\n",
       "      <td>yesNode</td>\n",
       "      <td>[]</td>\n",
       "      <td>True</td>\n",
       "    </tr>\n",
       "    <tr>\n",
       "      <th>2</th>\n",
       "      <td>alright</td>\n",
       "      <td>yesNode</td>\n",
       "      <td>[]</td>\n",
       "      <td>True</td>\n",
       "    </tr>\n",
       "    <tr>\n",
       "      <th>3</th>\n",
       "      <td>absolutely</td>\n",
       "      <td>yesNode</td>\n",
       "      <td>[]</td>\n",
       "      <td>True</td>\n",
       "    </tr>\n",
       "    <tr>\n",
       "      <th>4</th>\n",
       "      <td>oh absolutely</td>\n",
       "      <td>yesNode</td>\n",
       "      <td>[]</td>\n",
       "      <td>True</td>\n",
       "    </tr>\n",
       "    <tr>\n",
       "      <th>...</th>\n",
       "      <td>...</td>\n",
       "      <td>...</td>\n",
       "      <td>...</td>\n",
       "      <td>...</td>\n",
       "    </tr>\n",
       "    <tr>\n",
       "      <th>1314</th>\n",
       "      <td>are you asleep</td>\n",
       "      <td>stillThere</td>\n",
       "      <td>[]</td>\n",
       "      <td>False</td>\n",
       "    </tr>\n",
       "    <tr>\n",
       "      <th>1315</th>\n",
       "      <td>have you turned off</td>\n",
       "      <td>stillThere</td>\n",
       "      <td>[]</td>\n",
       "      <td>False</td>\n",
       "    </tr>\n",
       "    <tr>\n",
       "      <th>1316</th>\n",
       "      <td>have you stopped</td>\n",
       "      <td>stillThere</td>\n",
       "      <td>[]</td>\n",
       "      <td>False</td>\n",
       "    </tr>\n",
       "    <tr>\n",
       "      <th>1317</th>\n",
       "      <td>did you stop</td>\n",
       "      <td>stillThere</td>\n",
       "      <td>[]</td>\n",
       "      <td>False</td>\n",
       "    </tr>\n",
       "    <tr>\n",
       "      <th>1318</th>\n",
       "      <td>did you quit</td>\n",
       "      <td>stillThere</td>\n",
       "      <td>[]</td>\n",
       "      <td>False</td>\n",
       "    </tr>\n",
       "  </tbody>\n",
       "</table>\n",
       "<p>1319 rows × 4 columns</p>\n",
       "</div>"
      ],
      "text/plain": [
       "                     text      intent entities  training\n",
       "0                     yes     yesNode       []      True\n",
       "1                 oh yeah     yesNode       []      True\n",
       "2                 alright     yesNode       []      True\n",
       "3              absolutely     yesNode       []      True\n",
       "4           oh absolutely     yesNode       []      True\n",
       "...                   ...         ...      ...       ...\n",
       "1314       are you asleep  stillThere       []     False\n",
       "1315  have you turned off  stillThere       []     False\n",
       "1316     have you stopped  stillThere       []     False\n",
       "1317         did you stop  stillThere       []     False\n",
       "1318         did you quit  stillThere       []     False\n",
       "\n",
       "[1319 rows x 4 columns]"
      ]
     },
     "execution_count": 17,
     "metadata": {},
     "output_type": "execute_result"
    }
   ],
   "source": [
    "data"
   ]
  },
  {
   "cell_type": "code",
   "execution_count": 21,
   "metadata": {},
   "outputs": [
    {
     "data": {
      "text/plain": [
       "0          yesNode\n",
       "1          yesNode\n",
       "2          yesNode\n",
       "3          yesNode\n",
       "4          yesNode\n",
       "           ...    \n",
       "1314    stillThere\n",
       "1315    stillThere\n",
       "1316    stillThere\n",
       "1317    stillThere\n",
       "1318    stillThere\n",
       "Name: intent, Length: 1319, dtype: object"
      ]
     },
     "execution_count": 21,
     "metadata": {},
     "output_type": "execute_result"
    }
   ],
   "source": [
    "data['intent']"
   ]
  },
  {
   "cell_type": "code",
   "execution_count": 10,
   "metadata": {},
   "outputs": [
    {
     "data": {
      "text/plain": [
       "False    989\n",
       "True     330\n",
       "Name: training, dtype: int64"
      ]
     },
     "execution_count": 10,
     "metadata": {},
     "output_type": "execute_result"
    }
   ],
   "source": [
    "data['training'].value_counts()"
   ]
  },
  {
   "cell_type": "code",
   "execution_count": 15,
   "metadata": {},
   "outputs": [],
   "source": [
    "train = data[data['training'] == True]\n",
    "val = data[data['training'] == False]"
   ]
  },
  {
   "cell_type": "code",
   "execution_count": 14,
   "metadata": {},
   "outputs": [
    {
     "data": {
      "text/plain": [
       "yesNode          141\n",
       "noNode            53\n",
       "playOtherGame     31\n",
       "volumeDown        31\n",
       "volumeUp          19\n",
       "listOfGames       16\n",
       "maybeNode         11\n",
       "stop               8\n",
       "Repeat             6\n",
       "timesPlayed        5\n",
       "wait               3\n",
       "gamesCounter       3\n",
       "stillThere         2\n",
       "totalStop          1\n",
       "Name: intent, dtype: int64"
      ]
     },
     "execution_count": 14,
     "metadata": {},
     "output_type": "execute_result"
    }
   ],
   "source": [
    "train['intent'].value_counts()"
   ]
  },
  {
   "cell_type": "code",
   "execution_count": 16,
   "metadata": {},
   "outputs": [
    {
     "data": {
      "text/plain": [
       "yesNode          422\n",
       "noNode           160\n",
       "playOtherGame     94\n",
       "volumeDown        93\n",
       "volumeUp          55\n",
       "listOfGames       50\n",
       "maybeNode         33\n",
       "stop              23\n",
       "Repeat            18\n",
       "timesPlayed       16\n",
       "gamesCounter       9\n",
       "wait               8\n",
       "stillThere         7\n",
       "totalStop          1\n",
       "Name: intent, dtype: int64"
      ]
     },
     "execution_count": 16,
     "metadata": {},
     "output_type": "execute_result"
    }
   ],
   "source": [
    "val['intent'].value_counts()"
   ]
  },
  {
   "cell_type": "code",
   "execution_count": 33,
   "metadata": {},
   "outputs": [
    {
     "data": {
      "text/plain": [
       "14"
      ]
     },
     "execution_count": 33,
     "metadata": {},
     "output_type": "execute_result"
    }
   ],
   "source": [
    "len(data['intent'].value_counts())"
   ]
  },
  {
   "cell_type": "code",
   "execution_count": 35,
   "metadata": {},
   "outputs": [
    {
     "data": {
      "text/plain": [
       "volumeUp         74\n",
       "listOfGames      66\n",
       "maybeNode        44\n",
       "stop             31\n",
       "Repeat           24\n",
       "timesPlayed      21\n",
       "yesNode          20\n",
       "noNode           20\n",
       "playOtherGame    20\n",
       "volumeDown       20\n",
       "gamesCounter     12\n",
       "wait             11\n",
       "stillThere        9\n",
       "totalStop         2\n",
       "Name: intent, dtype: int64"
      ]
     },
     "execution_count": 35,
     "metadata": {},
     "output_type": "execute_result"
    }
   ],
   "source": [
    "data2['intent'].value_counts()"
   ]
  },
  {
   "cell_type": "code",
   "execution_count": 38,
   "metadata": {},
   "outputs": [],
   "source": [
    "d = {}\n",
    "for i, element in enumerate(data2['intent'].unique()):\n",
    "    d[element] = i"
   ]
  },
  {
   "cell_type": "code",
   "execution_count": 39,
   "metadata": {},
   "outputs": [
    {
     "data": {
      "text/plain": [
       "{'yesNode': 0,\n",
       " 'noNode': 1,\n",
       " 'maybeNode': 2,\n",
       " 'stop': 3,\n",
       " 'Repeat': 4,\n",
       " 'playOtherGame': 5,\n",
       " 'totalStop': 6,\n",
       " 'wait': 7,\n",
       " 'listOfGames': 8,\n",
       " 'gamesCounter': 9,\n",
       " 'volumeUp': 10,\n",
       " 'volumeDown': 11,\n",
       " 'timesPlayed': 12,\n",
       " 'stillThere': 13}"
      ]
     },
     "execution_count": 39,
     "metadata": {},
     "output_type": "execute_result"
    }
   ],
   "source": [
    "d"
   ]
  },
  {
   "cell_type": "code",
   "execution_count": null,
   "metadata": {},
   "outputs": [],
   "source": []
  }
 ],
 "metadata": {
  "interpreter": {
   "hash": "bc7067ad0587ee2533d0568fff1e23349b43564da49d2e99835e9871e4935780"
  },
  "kernelspec": {
   "display_name": "Python 3.8.12 64-bit ('pytorch': conda)",
   "language": "python",
   "name": "python3"
  },
  "language_info": {
   "codemirror_mode": {
    "name": "ipython",
    "version": 3
   },
   "file_extension": ".py",
   "mimetype": "text/x-python",
   "name": "python",
   "nbconvert_exporter": "python",
   "pygments_lexer": "ipython3",
   "version": "3.8.12"
  },
  "orig_nbformat": 4
 },
 "nbformat": 4,
 "nbformat_minor": 2
}
