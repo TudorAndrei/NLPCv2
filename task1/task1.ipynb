{
 "cells": [
  {
   "cell_type": "code",
   "execution_count": 34,
   "metadata": {},
   "outputs": [],
   "source": [
    "import pandas as pd\n",
    "import spacy\n",
    "from collections import Counter"
   ]
  },
  {
   "cell_type": "markdown",
   "metadata": {},
   "source": [
    "[Spacy Docs](https://spacy.io/usage/spacy-101)"
   ]
  },
  {
   "cell_type": "code",
   "execution_count": 3,
   "metadata": {},
   "outputs": [],
   "source": [
    "# !python -m spacy download en_core_web_sm"
   ]
  },
  {
   "cell_type": "code",
   "execution_count": 41,
   "metadata": {},
   "outputs": [],
   "source": [
    "data = pd.read_csv(\"../twitter_dataset/twitter_training.csv\", header=None).head(100)"
   ]
  },
  {
   "cell_type": "code",
   "execution_count": 42,
   "metadata": {},
   "outputs": [
    {
     "data": {
      "text/plain": [
       "\"So I spent a few hours making something for fun. . . If you don't know I am a HUGE RhandlerR fan and Maya is one of my favorite characters. So I decided to make myself a wallpaper for my PC. . Here is the original image versus the creation I made :) Enjoy! pic.twitter.com/mLsI5wf9Jg\""
      ]
     },
     "execution_count": 42,
     "metadata": {},
     "output_type": "execute_result"
    }
   ],
   "source": [
    "data.iloc[9, 3]"
   ]
  },
  {
   "cell_type": "markdown",
   "metadata": {},
   "source": [
    "## Tokenization"
   ]
  },
  {
   "cell_type": "code",
   "execution_count": 43,
   "metadata": {},
   "outputs": [
    {
     "name": "stdout",
     "output_type": "stream",
     "text": [
      "['So', 'I', 'spent', 'a', 'few', 'hours', 'making', 'something', 'for', 'fun', '.', '.', '.', 'If', 'you', 'do', \"n't\", 'know', 'I', 'am', 'a', 'HUGE', 'RhandlerR', 'fan', 'and', 'Maya', 'is', 'one', 'of', 'my', 'favorite', 'characters', '.', 'So', 'I', 'decided', 'to', 'make', 'myself', 'a', 'wallpaper', 'for', 'my', 'PC', '.', '.', 'Here', 'is', 'the', 'original', 'image', 'versus', 'the', 'creation', 'I', 'made', ':)', 'Enjoy', '!', 'pic.twitter.com/mLsI5wf9Jg']\n"
     ]
    }
   ],
   "source": [
    "nlp = spacy.load(\"en_core_web_sm\")\n",
    "text = data.iloc[9, 3]\n",
    "doc = nlp(text)\n",
    "print([token.text for token in doc])"
   ]
  },
  {
   "cell_type": "code",
   "execution_count": 53,
   "metadata": {},
   "outputs": [],
   "source": [
    "data['tokens'] = data[3].apply(lambda x: [token.text for token in nlp(str(x))])"
   ]
  },
  {
   "cell_type": "code",
   "execution_count": 54,
   "metadata": {},
   "outputs": [
    {
     "data": {
      "text/plain": [
       "[('.', 130),\n",
       " ('I', 63),\n",
       " ('to', 61),\n",
       " ('the', 61),\n",
       " ('a', 61),\n",
       " ('in', 52),\n",
       " (',', 42),\n",
       " ('for', 41),\n",
       " ('!', 39),\n",
       " ('i', 34)]"
      ]
     },
     "execution_count": 54,
     "metadata": {},
     "output_type": "execute_result"
    }
   ],
   "source": [
    "cnt = Counter([item for sublist in data['tokens'].tolist() for item in sublist])\n",
    "cnt.most_common(10)"
   ]
  },
  {
   "cell_type": "markdown",
   "metadata": {},
   "source": [
    "## Lemmatization"
   ]
  },
  {
   "cell_type": "code",
   "execution_count": 14,
   "metadata": {},
   "outputs": [
    {
     "name": "stdout",
     "output_type": "stream",
     "text": [
      "['that', 'be', 'the', 'first', 'borderland', 'session', 'in', 'a', 'long', 'time', 'where', 'I', 'actually', 'enjoy', 'a', 'really', 'satisfy', 'combat', 'experience', '.', 'I', 'get', 'some', 'rather', 'good', 'kill']\n"
     ]
    }
   ],
   "source": [
    "print([token.lemma_ for token in doc])"
   ]
  },
  {
   "cell_type": "code",
   "execution_count": 50,
   "metadata": {},
   "outputs": [],
   "source": [
    "data['lemma'] = data[3].apply(lambda x: [token.lemma_ for token in nlp(str(x))])"
   ]
  },
  {
   "cell_type": "code",
   "execution_count": 51,
   "metadata": {},
   "outputs": [
    {
     "data": {
      "text/plain": [
       "[('.', 130),\n",
       " ('I', 105),\n",
       " ('be', 70),\n",
       " ('a', 67),\n",
       " ('the', 63),\n",
       " ('to', 61),\n",
       " ('in', 52),\n",
       " ('borderland', 44),\n",
       " (',', 42),\n",
       " ('for', 42)]"
      ]
     },
     "execution_count": 51,
     "metadata": {},
     "output_type": "execute_result"
    }
   ],
   "source": [
    "cnt = Counter([item for sublist in data['lemma'].tolist() for item in sublist])\n",
    "cnt.most_common(10)"
   ]
  },
  {
   "cell_type": "markdown",
   "metadata": {},
   "source": [
    "## POS Tagging"
   ]
  },
  {
   "cell_type": "code",
   "execution_count": 16,
   "metadata": {},
   "outputs": [
    {
     "name": "stdout",
     "output_type": "stream",
     "text": [
      "['PRON', 'AUX', 'DET', 'ADJ', 'NOUN', 'NOUN', 'ADP', 'DET', 'ADJ', 'NOUN', 'SCONJ', 'PRON', 'ADV', 'VERB', 'DET', 'ADV', 'VERB', 'NOUN', 'NOUN', 'PUNCT', 'PRON', 'VERB', 'DET', 'ADV', 'ADJ', 'NOUN']\n"
     ]
    }
   ],
   "source": [
    "print([token.pos_ for token in doc])"
   ]
  },
  {
   "cell_type": "code",
   "execution_count": 56,
   "metadata": {},
   "outputs": [],
   "source": [
    "data['pos'] = data[3].apply(lambda x: [token.pos_ for token in nlp(str(x))])"
   ]
  },
  {
   "cell_type": "code",
   "execution_count": 59,
   "metadata": {},
   "outputs": [
    {
     "data": {
      "text/plain": [
       "[('NOUN', 426),\n",
       " ('VERB', 302),\n",
       " ('PUNCT', 289),\n",
       " ('PRON', 261),\n",
       " ('ADP', 211),\n",
       " ('PROPN', 199),\n",
       " ('DET', 185),\n",
       " ('AUX', 156),\n",
       " ('ADJ', 155),\n",
       " ('ADV', 135)]"
      ]
     },
     "execution_count": 59,
     "metadata": {},
     "output_type": "execute_result"
    }
   ],
   "source": [
    "cnt = Counter([item for sublist in data['pos'].tolist() for item in sublist])\n",
    "cnt.most_common(10)"
   ]
  },
  {
   "cell_type": "code",
   "execution_count": null,
   "metadata": {},
   "outputs": [],
   "source": []
  }
 ],
 "metadata": {
  "interpreter": {
   "hash": "20f608ea2481693c458cbeb15bda089f678dc1747b310d57a0e18e10543ff74b"
  },
  "kernelspec": {
   "display_name": "Python 3.9.9 64-bit ('nlpc': conda)",
   "language": "python",
   "name": "python3"
  },
  "language_info": {
   "codemirror_mode": {
    "name": "ipython",
    "version": 3
   },
   "file_extension": ".py",
   "mimetype": "text/x-python",
   "name": "python",
   "nbconvert_exporter": "python",
   "pygments_lexer": "ipython3",
   "version": "3.9.9"
  },
  "orig_nbformat": 4
 },
 "nbformat": 4,
 "nbformat_minor": 2
}
